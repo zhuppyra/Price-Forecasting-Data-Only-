{
  "nbformat": 4,
  "nbformat_minor": 0,
  "metadata": {
    "colab": {
      "name": "test arima 2.ipynb",
      "provenance": [],
      "collapsed_sections": [],
      "authorship_tag": "ABX9TyPbJz9N4UI38Vadt/Z2ur/d",
      "include_colab_link": true
    },
    "kernelspec": {
      "name": "python3",
      "display_name": "Python 3"
    },
    "language_info": {
      "name": "python"
    }
  },
  "cells": [
    {
      "cell_type": "markdown",
      "metadata": {
        "id": "view-in-github",
        "colab_type": "text"
      },
      "source": [
        "<a href=\"https://colab.research.google.com/github/zhuppyra/price-forecasting/blob/main/test_arima_2.ipynb\" target=\"_parent\"><img src=\"https://colab.research.google.com/assets/colab-badge.svg\" alt=\"Open In Colab\"/></a>"
      ]
    },
    {
      "cell_type": "code",
      "source": [
        "! pip install pmdarima"
      ],
      "metadata": {
        "colab": {
          "base_uri": "https://localhost:8080/"
        },
        "id": "FUYsbYVpxUbf",
        "outputId": "5379c618-5675-4bf0-a72f-3e090dc7c252"
      },
      "execution_count": 1,
      "outputs": [
        {
          "output_type": "stream",
          "name": "stdout",
          "text": [
            "Requirement already satisfied: pmdarima in /usr/local/lib/python3.7/dist-packages (1.8.5)\n",
            "Requirement already satisfied: scikit-learn>=0.22 in /usr/local/lib/python3.7/dist-packages (from pmdarima) (1.0.2)\n",
            "Requirement already satisfied: scipy>=1.3.2 in /usr/local/lib/python3.7/dist-packages (from pmdarima) (1.4.1)\n",
            "Requirement already satisfied: numpy>=1.19.3 in /usr/local/lib/python3.7/dist-packages (from pmdarima) (1.21.5)\n",
            "Requirement already satisfied: statsmodels!=0.12.0,>=0.11 in /usr/local/lib/python3.7/dist-packages (from pmdarima) (0.13.2)\n",
            "Requirement already satisfied: joblib>=0.11 in /usr/local/lib/python3.7/dist-packages (from pmdarima) (1.1.0)\n",
            "Requirement already satisfied: urllib3 in /usr/local/lib/python3.7/dist-packages (from pmdarima) (1.24.3)\n",
            "Requirement already satisfied: setuptools!=50.0.0,>=38.6.0 in /usr/local/lib/python3.7/dist-packages (from pmdarima) (57.4.0)\n",
            "Requirement already satisfied: Cython!=0.29.18,>=0.29 in /usr/local/lib/python3.7/dist-packages (from pmdarima) (0.29.28)\n",
            "Requirement already satisfied: pandas>=0.19 in /usr/local/lib/python3.7/dist-packages (from pmdarima) (1.3.5)\n",
            "Requirement already satisfied: python-dateutil>=2.7.3 in /usr/local/lib/python3.7/dist-packages (from pandas>=0.19->pmdarima) (2.8.2)\n",
            "Requirement already satisfied: pytz>=2017.3 in /usr/local/lib/python3.7/dist-packages (from pandas>=0.19->pmdarima) (2018.9)\n",
            "Requirement already satisfied: six>=1.5 in /usr/local/lib/python3.7/dist-packages (from python-dateutil>=2.7.3->pandas>=0.19->pmdarima) (1.15.0)\n",
            "Requirement already satisfied: threadpoolctl>=2.0.0 in /usr/local/lib/python3.7/dist-packages (from scikit-learn>=0.22->pmdarima) (3.1.0)\n",
            "Requirement already satisfied: patsy>=0.5.2 in /usr/local/lib/python3.7/dist-packages (from statsmodels!=0.12.0,>=0.11->pmdarima) (0.5.2)\n",
            "Requirement already satisfied: packaging>=21.3 in /usr/local/lib/python3.7/dist-packages (from statsmodels!=0.12.0,>=0.11->pmdarima) (21.3)\n",
            "Requirement already satisfied: pyparsing!=3.0.5,>=2.0.2 in /usr/local/lib/python3.7/dist-packages (from packaging>=21.3->statsmodels!=0.12.0,>=0.11->pmdarima) (3.0.7)\n"
          ]
        }
      ]
    },
    {
      "cell_type": "code",
      "execution_count": 2,
      "metadata": {
        "id": "qJJwsHoFpaMu"
      },
      "outputs": [],
      "source": [
        "# Import modules\n",
        "import matplotlib.pyplot as plt\n",
        "import pandas as pd\n",
        "import numpy as np\n",
        "from statsmodels.tsa.stattools import adfuller\n",
        "from statsmodels.tsa.statespace.sarimax import SARIMAX\n",
        "from statsmodels.graphics.tsaplots import plot_acf, plot_pacf\n",
        "from google.colab import files\n",
        "from pmdarima.arima import auto_arima\n",
        "from pmdarima.arima import ADFTest"
      ]
    },
    {
      "cell_type": "code",
      "source": [
        "uploaded = files.upload()"
      ],
      "metadata": {
        "colab": {
          "resources": {
            "http://localhost:8080/nbextensions/google.colab/files.js": {
              "data": "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",
              "ok": true,
              "headers": [
                [
                  "content-type",
                  "application/javascript"
                ]
              ],
              "status": 200,
              "status_text": ""
            }
          },
          "base_uri": "https://localhost:8080/",
          "height": 73
        },
        "id": "nSP7XDgYpqeu",
        "outputId": "c0f76e26-4846-443c-feaa-b598aef1fa5c"
      },
      "execution_count": 3,
      "outputs": [
        {
          "output_type": "display_data",
          "data": {
            "text/plain": [
              "<IPython.core.display.HTML object>"
            ],
            "text/html": [
              "\n",
              "     <input type=\"file\" id=\"files-345d0701-b0ac-455a-8ff6-de06bbfbab80\" name=\"files[]\" multiple disabled\n",
              "        style=\"border:none\" />\n",
              "     <output id=\"result-345d0701-b0ac-455a-8ff6-de06bbfbab80\">\n",
              "      Upload widget is only available when the cell has been executed in the\n",
              "      current browser session. Please rerun this cell to enable.\n",
              "      </output>\n",
              "      <script src=\"/nbextensions/google.colab/files.js\"></script> "
            ]
          },
          "metadata": {}
        },
        {
          "output_type": "stream",
          "name": "stdout",
          "text": [
            "Saving Data harga 2016-2021 10 komoditas.csv to Data harga 2016-2021 10 komoditas.csv\n"
          ]
        }
      ]
    },
    {
      "cell_type": "code",
      "source": [
        "import io\n",
        "df = pd.read_csv(io.BytesIO(uploaded['Data harga 2016-2021 10 komoditas.csv']), index_col='Date', parse_dates=True)\n",
        "# Dataset is now stored in a Pandas Dataframe\n",
        "df.index.freq='D'\n",
        "df.head()"
      ],
      "metadata": {
        "colab": {
          "base_uri": "https://localhost:8080/",
          "height": 386
        },
        "id": "qCpS8slrpj-x",
        "outputId": "7393478d-5eae-4f11-b14f-ff08771e8e8b"
      },
      "execution_count": 4,
      "outputs": [
        {
          "output_type": "execute_result",
          "data": {
            "text/plain": [
              "            Shallot   Garlic     Rice  Chili pepper  Cayenne pepper  \\\n",
              "Date                                                                  \n",
              "2016-01-01  35774.0  27588.0  10806.0       39831.0         48486.0   \n",
              "2016-01-02  35068.0  27750.0  10809.0       40191.0         48146.0   \n",
              "2016-01-03  35318.0  27728.0  10809.0       39581.0         47396.0   \n",
              "2016-01-04  35757.0  28084.0  10835.0       39251.0         45896.0   \n",
              "2016-01-05  36236.0  28037.0  10835.0       39241.0         44021.0   \n",
              "\n",
              "            Broiler meat  Topside beef  Granulated sugar  Cooking oil  \\\n",
              "Date                                                                    \n",
              "2016-01-01       33303.0      110235.0           12838.0      15027.0   \n",
              "2016-01-02       33479.0      110265.0           12909.0      15092.0   \n",
              "2016-01-03       33362.0      110338.0           12909.0      15092.0   \n",
              "2016-01-04       34224.0      110306.0           13017.0      14956.0   \n",
              "2016-01-05       34116.0      110245.0           13020.0      14962.0   \n",
              "\n",
              "            Chicken egg  \n",
              "Date                     \n",
              "2016-01-01      25743.0  \n",
              "2016-01-02      25774.0  \n",
              "2016-01-03      25700.0  \n",
              "2016-01-04      25564.0  \n",
              "2016-01-05      25586.0  "
            ],
            "text/html": [
              "\n",
              "  <div id=\"df-8fcccc63-1127-49ce-b231-c39b8c1874b6\">\n",
              "    <div class=\"colab-df-container\">\n",
              "      <div>\n",
              "<style scoped>\n",
              "    .dataframe tbody tr th:only-of-type {\n",
              "        vertical-align: middle;\n",
              "    }\n",
              "\n",
              "    .dataframe tbody tr th {\n",
              "        vertical-align: top;\n",
              "    }\n",
              "\n",
              "    .dataframe thead th {\n",
              "        text-align: right;\n",
              "    }\n",
              "</style>\n",
              "<table border=\"1\" class=\"dataframe\">\n",
              "  <thead>\n",
              "    <tr style=\"text-align: right;\">\n",
              "      <th></th>\n",
              "      <th>Shallot</th>\n",
              "      <th>Garlic</th>\n",
              "      <th>Rice</th>\n",
              "      <th>Chili pepper</th>\n",
              "      <th>Cayenne pepper</th>\n",
              "      <th>Broiler meat</th>\n",
              "      <th>Topside beef</th>\n",
              "      <th>Granulated sugar</th>\n",
              "      <th>Cooking oil</th>\n",
              "      <th>Chicken egg</th>\n",
              "    </tr>\n",
              "    <tr>\n",
              "      <th>Date</th>\n",
              "      <th></th>\n",
              "      <th></th>\n",
              "      <th></th>\n",
              "      <th></th>\n",
              "      <th></th>\n",
              "      <th></th>\n",
              "      <th></th>\n",
              "      <th></th>\n",
              "      <th></th>\n",
              "      <th></th>\n",
              "    </tr>\n",
              "  </thead>\n",
              "  <tbody>\n",
              "    <tr>\n",
              "      <th>2016-01-01</th>\n",
              "      <td>35774.0</td>\n",
              "      <td>27588.0</td>\n",
              "      <td>10806.0</td>\n",
              "      <td>39831.0</td>\n",
              "      <td>48486.0</td>\n",
              "      <td>33303.0</td>\n",
              "      <td>110235.0</td>\n",
              "      <td>12838.0</td>\n",
              "      <td>15027.0</td>\n",
              "      <td>25743.0</td>\n",
              "    </tr>\n",
              "    <tr>\n",
              "      <th>2016-01-02</th>\n",
              "      <td>35068.0</td>\n",
              "      <td>27750.0</td>\n",
              "      <td>10809.0</td>\n",
              "      <td>40191.0</td>\n",
              "      <td>48146.0</td>\n",
              "      <td>33479.0</td>\n",
              "      <td>110265.0</td>\n",
              "      <td>12909.0</td>\n",
              "      <td>15092.0</td>\n",
              "      <td>25774.0</td>\n",
              "    </tr>\n",
              "    <tr>\n",
              "      <th>2016-01-03</th>\n",
              "      <td>35318.0</td>\n",
              "      <td>27728.0</td>\n",
              "      <td>10809.0</td>\n",
              "      <td>39581.0</td>\n",
              "      <td>47396.0</td>\n",
              "      <td>33362.0</td>\n",
              "      <td>110338.0</td>\n",
              "      <td>12909.0</td>\n",
              "      <td>15092.0</td>\n",
              "      <td>25700.0</td>\n",
              "    </tr>\n",
              "    <tr>\n",
              "      <th>2016-01-04</th>\n",
              "      <td>35757.0</td>\n",
              "      <td>28084.0</td>\n",
              "      <td>10835.0</td>\n",
              "      <td>39251.0</td>\n",
              "      <td>45896.0</td>\n",
              "      <td>34224.0</td>\n",
              "      <td>110306.0</td>\n",
              "      <td>13017.0</td>\n",
              "      <td>14956.0</td>\n",
              "      <td>25564.0</td>\n",
              "    </tr>\n",
              "    <tr>\n",
              "      <th>2016-01-05</th>\n",
              "      <td>36236.0</td>\n",
              "      <td>28037.0</td>\n",
              "      <td>10835.0</td>\n",
              "      <td>39241.0</td>\n",
              "      <td>44021.0</td>\n",
              "      <td>34116.0</td>\n",
              "      <td>110245.0</td>\n",
              "      <td>13020.0</td>\n",
              "      <td>14962.0</td>\n",
              "      <td>25586.0</td>\n",
              "    </tr>\n",
              "  </tbody>\n",
              "</table>\n",
              "</div>\n",
              "      <button class=\"colab-df-convert\" onclick=\"convertToInteractive('df-8fcccc63-1127-49ce-b231-c39b8c1874b6')\"\n",
              "              title=\"Convert this dataframe to an interactive table.\"\n",
              "              style=\"display:none;\">\n",
              "        \n",
              "  <svg xmlns=\"http://www.w3.org/2000/svg\" height=\"24px\"viewBox=\"0 0 24 24\"\n",
              "       width=\"24px\">\n",
              "    <path d=\"M0 0h24v24H0V0z\" fill=\"none\"/>\n",
              "    <path d=\"M18.56 5.44l.94 2.06.94-2.06 2.06-.94-2.06-.94-.94-2.06-.94 2.06-2.06.94zm-11 1L8.5 8.5l.94-2.06 2.06-.94-2.06-.94L8.5 2.5l-.94 2.06-2.06.94zm10 10l.94 2.06.94-2.06 2.06-.94-2.06-.94-.94-2.06-.94 2.06-2.06.94z\"/><path d=\"M17.41 7.96l-1.37-1.37c-.4-.4-.92-.59-1.43-.59-.52 0-1.04.2-1.43.59L10.3 9.45l-7.72 7.72c-.78.78-.78 2.05 0 2.83L4 21.41c.39.39.9.59 1.41.59.51 0 1.02-.2 1.41-.59l7.78-7.78 2.81-2.81c.8-.78.8-2.07 0-2.86zM5.41 20L4 18.59l7.72-7.72 1.47 1.35L5.41 20z\"/>\n",
              "  </svg>\n",
              "      </button>\n",
              "      \n",
              "  <style>\n",
              "    .colab-df-container {\n",
              "      display:flex;\n",
              "      flex-wrap:wrap;\n",
              "      gap: 12px;\n",
              "    }\n",
              "\n",
              "    .colab-df-convert {\n",
              "      background-color: #E8F0FE;\n",
              "      border: none;\n",
              "      border-radius: 50%;\n",
              "      cursor: pointer;\n",
              "      display: none;\n",
              "      fill: #1967D2;\n",
              "      height: 32px;\n",
              "      padding: 0 0 0 0;\n",
              "      width: 32px;\n",
              "    }\n",
              "\n",
              "    .colab-df-convert:hover {\n",
              "      background-color: #E2EBFA;\n",
              "      box-shadow: 0px 1px 2px rgba(60, 64, 67, 0.3), 0px 1px 3px 1px rgba(60, 64, 67, 0.15);\n",
              "      fill: #174EA6;\n",
              "    }\n",
              "\n",
              "    [theme=dark] .colab-df-convert {\n",
              "      background-color: #3B4455;\n",
              "      fill: #D2E3FC;\n",
              "    }\n",
              "\n",
              "    [theme=dark] .colab-df-convert:hover {\n",
              "      background-color: #434B5C;\n",
              "      box-shadow: 0px 1px 3px 1px rgba(0, 0, 0, 0.15);\n",
              "      filter: drop-shadow(0px 1px 2px rgba(0, 0, 0, 0.3));\n",
              "      fill: #FFFFFF;\n",
              "    }\n",
              "  </style>\n",
              "\n",
              "      <script>\n",
              "        const buttonEl =\n",
              "          document.querySelector('#df-8fcccc63-1127-49ce-b231-c39b8c1874b6 button.colab-df-convert');\n",
              "        buttonEl.style.display =\n",
              "          google.colab.kernel.accessAllowed ? 'block' : 'none';\n",
              "\n",
              "        async function convertToInteractive(key) {\n",
              "          const element = document.querySelector('#df-8fcccc63-1127-49ce-b231-c39b8c1874b6');\n",
              "          const dataTable =\n",
              "            await google.colab.kernel.invokeFunction('convertToInteractive',\n",
              "                                                     [key], {});\n",
              "          if (!dataTable) return;\n",
              "\n",
              "          const docLinkHtml = 'Like what you see? Visit the ' +\n",
              "            '<a target=\"_blank\" href=https://colab.research.google.com/notebooks/data_table.ipynb>data table notebook</a>'\n",
              "            + ' to learn more about interactive tables.';\n",
              "          element.innerHTML = '';\n",
              "          dataTable['output_type'] = 'display_data';\n",
              "          await google.colab.output.renderOutput(dataTable, element);\n",
              "          const docLink = document.createElement('div');\n",
              "          docLink.innerHTML = docLinkHtml;\n",
              "          element.appendChild(docLink);\n",
              "        }\n",
              "      </script>\n",
              "    </div>\n",
              "  </div>\n",
              "  "
            ]
          },
          "metadata": {},
          "execution_count": 4
        }
      ]
    },
    {
      "cell_type": "code",
      "source": [
        "# checking for missing data\n",
        "df.isna().any().any()"
      ],
      "metadata": {
        "colab": {
          "base_uri": "https://localhost:8080/"
        },
        "id": "6edAQZE2px-2",
        "outputId": "09e289ad-152b-401a-abb5-7aa2d78adb1a"
      },
      "execution_count": 5,
      "outputs": [
        {
          "output_type": "execute_result",
          "data": {
            "text/plain": [
              "True"
            ]
          },
          "metadata": {},
          "execution_count": 5
        }
      ]
    },
    {
      "cell_type": "code",
      "source": [
        "# filling missing data using last observation carried forward (LOCF)\n",
        "df1 = df.ffill()\n",
        "# print dataframe shape\n",
        "print(df1.shape)\n",
        "# rechecking for missing data\n",
        "print(df1.isna().any().any())\n",
        "df1.head"
      ],
      "metadata": {
        "colab": {
          "base_uri": "https://localhost:8080/"
        },
        "id": "QtZOypnPp0pK",
        "outputId": "31f84a10-2356-45dd-c773-71ac3f10e95f"
      },
      "execution_count": 6,
      "outputs": [
        {
          "output_type": "stream",
          "name": "stdout",
          "text": [
            "(2192, 10)\n",
            "False\n"
          ]
        },
        {
          "output_type": "execute_result",
          "data": {
            "text/plain": [
              "<bound method NDFrame.head of             Shallot   Garlic     Rice  Chili pepper  Cayenne pepper  \\\n",
              "Date                                                                  \n",
              "2016-01-01  35774.0  27588.0  10806.0       39831.0         48486.0   \n",
              "2016-01-02  35068.0  27750.0  10809.0       40191.0         48146.0   \n",
              "2016-01-03  35318.0  27728.0  10809.0       39581.0         47396.0   \n",
              "2016-01-04  35757.0  28084.0  10835.0       39251.0         45896.0   \n",
              "2016-01-05  36236.0  28037.0  10835.0       39241.0         44021.0   \n",
              "...             ...      ...      ...           ...             ...   \n",
              "2021-12-27  28420.0  28152.0  10320.0       50881.0         95556.0   \n",
              "2021-12-28  28117.0  28118.0  10323.0       50516.0         96180.0   \n",
              "2021-12-29  28054.0  27989.0  10323.0       50118.0         93738.0   \n",
              "2021-12-30  28553.0  28349.0  10313.0       49103.0         92086.0   \n",
              "2021-12-31  28462.0  28309.0  10297.0       47906.0         88543.0   \n",
              "\n",
              "            Broiler meat  Topside beef  Granulated sugar  Cooking oil  \\\n",
              "Date                                                                    \n",
              "2016-01-01       33303.0      110235.0           12838.0      15027.0   \n",
              "2016-01-02       33479.0      110265.0           12909.0      15092.0   \n",
              "2016-01-03       33362.0      110338.0           12909.0      15092.0   \n",
              "2016-01-04       34224.0      110306.0           13017.0      14956.0   \n",
              "2016-01-05       34116.0      110245.0           13020.0      14962.0   \n",
              "...                  ...           ...               ...          ...   \n",
              "2021-12-27       36213.0      126284.0           13168.0      20159.0   \n",
              "2021-12-28       36253.0      126203.0           13178.0      20155.0   \n",
              "2021-12-29       36357.0      126162.0           13180.0      20166.0   \n",
              "2021-12-30       36484.0      126750.0           13198.0      20219.0   \n",
              "2021-12-31       36755.0      126912.0           13206.0      20223.0   \n",
              "\n",
              "            Chicken egg  \n",
              "Date                     \n",
              "2016-01-01      25743.0  \n",
              "2016-01-02      25774.0  \n",
              "2016-01-03      25700.0  \n",
              "2016-01-04      25564.0  \n",
              "2016-01-05      25586.0  \n",
              "...                 ...  \n",
              "2021-12-27      29564.0  \n",
              "2021-12-28      29827.0  \n",
              "2021-12-29      29911.0  \n",
              "2021-12-30      30060.0  \n",
              "2021-12-31      30144.0  \n",
              "\n",
              "[2192 rows x 10 columns]>"
            ]
          },
          "metadata": {},
          "execution_count": 6
        }
      ]
    },
    {
      "cell_type": "code",
      "source": [
        "# isolate Shallot\n",
        "shallot = df1['Shallot']\n",
        "shallot.head()"
      ],
      "metadata": {
        "colab": {
          "base_uri": "https://localhost:8080/"
        },
        "id": "KqefAJ-8p8Zq",
        "outputId": "287732e2-3641-47c5-ceeb-9971d1e975f1"
      },
      "execution_count": 7,
      "outputs": [
        {
          "output_type": "execute_result",
          "data": {
            "text/plain": [
              "Date\n",
              "2016-01-01    35774.0\n",
              "2016-01-02    35068.0\n",
              "2016-01-03    35318.0\n",
              "2016-01-04    35757.0\n",
              "2016-01-05    36236.0\n",
              "Freq: D, Name: Shallot, dtype: float64"
            ]
          },
          "metadata": {},
          "execution_count": 7
        }
      ]
    },
    {
      "cell_type": "code",
      "source": [
        "shallot.plot(color='r', figsize=(12,5))\n",
        "plt.title('Shallot Daily Price 2016-2021')\n",
        "plt.xlabel('Year')\n",
        "plt.ylabel('Price in IDR')\n",
        "plt.show()"
      ],
      "metadata": {
        "colab": {
          "base_uri": "https://localhost:8080/",
          "height": 350
        },
        "id": "D7JFs8oEG_LU",
        "outputId": "029da925-cce2-414d-be7c-bdd8207690c4"
      },
      "execution_count": 25,
      "outputs": [
        {
          "output_type": "display_data",
          "data": {
            "text/plain": [
              "<Figure size 864x360 with 1 Axes>"
            ],
            "image/png": "[encoded data removed]"
          },
          "metadata": {
            "needs_background": "light"
          }
        }
      ]
    },
    {
      "cell_type": "code",
      "source": [
        "def test_stationarity(timeseries,maxlag):\n",
        "    # Perform Dickey-Fuller test:\n",
        "    print('Results of Dickey-Fuller Test:')\n",
        "    dftest = adfuller(timeseries,maxlag=maxlag,\n",
        "                      autolag='AIC')\n",
        "    dfoutput = pd.Series(dftest[0:4], index=['Test Statistic','p-value','#Lags Used','Number of Observations Used'])\n",
        "    for key,value in dftest[4].items():\n",
        "        dfoutput['Critical Value (%s)'%key] = value\n",
        "    print (round(dfoutput,3))"
      ],
      "metadata": {
        "id": "-F_k9KGar2zE"
      },
      "execution_count": 9,
      "outputs": []
    },
    {
      "cell_type": "code",
      "source": [
        "test_stationarity(shallot, 30)"
      ],
      "metadata": {
        "colab": {
          "base_uri": "https://localhost:8080/"
        },
        "id": "-JfW1FD-r6Ze",
        "outputId": "ad74fc66-41c8-4237-c945-12c8efc9b953"
      },
      "execution_count": 10,
      "outputs": [
        {
          "output_type": "stream",
          "name": "stdout",
          "text": [
            "Results of Dickey-Fuller Test:\n",
            "Test Statistic                   -3.674\n",
            "p-value                           0.004\n",
            "#Lags Used                       22.000\n",
            "Number of Observations Used    2169.000\n",
            "Critical Value (1%)              -3.433\n",
            "Critical Value (5%)              -2.863\n",
            "Critical Value (10%)             -2.567\n",
            "dtype: float64\n"
          ]
        }
      ]
    },
    {
      "cell_type": "code",
      "source": [
        "sh_results = adfuller(shallot)\n",
        "print('Shallot augmented Dicky-Fuller test result:', sh_results)\n",
        "print('Test statistic Shallot:', sh_results[0])\n",
        "print('P-value Shallot:', sh_results[1])\n",
        "print('------')"
      ],
      "metadata": {
        "colab": {
          "base_uri": "https://localhost:8080/"
        },
        "id": "-dsKlbU4qLsq",
        "outputId": "82d54310-31b3-4af1-eab3-91880e933e9a"
      },
      "execution_count": 11,
      "outputs": [
        {
          "output_type": "stream",
          "name": "stdout",
          "text": [
            "Shallot augmented Dicky-Fuller test result: (-3.674306435601145, 0.004489420293956338, 22, 2169, {'1%': -3.4333684674663467, '5%': -2.8628734534635902, '10%': -2.5674798640234444}, 38234.595065173635)\n",
            "Test statistic Shallot: -3.674306435601145\n",
            "P-value Shallot: 0.004489420293956338\n",
            "------\n"
          ]
        }
      ]
    },
    {
      "cell_type": "code",
      "source": [
        "fig, (ax1, ax2) = plt.subplots(2, 1)\n",
        "plot_acf(shallot, lags=10, zero=False, ax=ax1)\n",
        "plot_pacf(shallot, lags=10, zero=False, ax=ax2)\n",
        "plt.show()"
      ],
      "metadata": {
        "colab": {
          "base_uri": "https://localhost:8080/",
          "height": 336
        },
        "id": "yzO5uHsLse0t",
        "outputId": "b6ebe276-7941-4e57-c78a-a5bcca877ffd"
      },
      "execution_count": 12,
      "outputs": [
        {
          "output_type": "stream",
          "name": "stderr",
          "text": [
            "/usr/local/lib/python3.7/dist-packages/statsmodels/graphics/tsaplots.py:353: FutureWarning: The default method 'yw' can produce PACF values outside of the [-1,1] interval. After 0.13, the default will change tounadjusted Yule-Walker ('ywm'). You can use this method now by setting method='ywm'.\n",
            "  FutureWarning,\n"
          ]
        },
        {
          "output_type": "display_data",
          "data": {
            "text/plain": [
              "<Figure size 432x288 with 2 Axes>"
            ],
            "image/png": "[encoded data removed]"
          },
          "metadata": {
            "needs_background": "light"
          }
        }
      ]
    },
    {
      "cell_type": "code",
      "source": [
        "adf_test = ADFTest(alpha=0.05)\n",
        "adf_test.should_diff(shallot)"
      ],
      "metadata": {
        "colab": {
          "base_uri": "https://localhost:8080/"
        },
        "id": "4IgVz06bxwKt",
        "outputId": "c6e6f693-b169-4024-c669-42993c403993"
      },
      "execution_count": 13,
      "outputs": [
        {
          "output_type": "execute_result",
          "data": {
            "text/plain": [
              "(0.19143895645849282, True)"
            ]
          },
          "metadata": {},
          "execution_count": 13
        }
      ]
    },
    {
      "cell_type": "code",
      "source": [
        "# ignore warnings\n",
        "import warnings\n",
        "warnings.filterwarnings('ignore')"
      ],
      "metadata": {
        "id": "9JrxCmRAKAo8"
      },
      "execution_count": 14,
      "outputs": []
    },
    {
      "cell_type": "code",
      "source": [
        "arima_model = auto_arima(shallot, d=0, trace=True,\n",
        "                         suppress_warnings=True)\n",
        "arima_model.summary()"
      ],
      "metadata": {
        "colab": {
          "base_uri": "https://localhost:8080/",
          "height": 1000
        },
        "id": "3O1-jFnoydaG",
        "outputId": "6705058b-d189-4d35-e766-c89b947cf82f"
      },
      "execution_count": 15,
      "outputs": [
        {
          "output_type": "stream",
          "name": "stdout",
          "text": [
            "Performing stepwise search to minimize aic\n",
            " ARIMA(2,0,2)(0,0,0)[0] intercept   : AIC=38794.895, Time=2.69 sec\n",
            " ARIMA(0,0,0)(0,0,0)[0] intercept   : AIC=44822.614, Time=0.18 sec\n",
            " ARIMA(1,0,0)(0,0,0)[0] intercept   : AIC=39322.226, Time=0.31 sec\n",
            " ARIMA(0,0,1)(0,0,0)[0] intercept   : AIC=42731.382, Time=2.73 sec\n",
            " ARIMA(0,0,0)(0,0,0)[0]             : AIC=51960.640, Time=0.09 sec\n",
            " ARIMA(1,0,2)(0,0,0)[0] intercept   : AIC=38809.858, Time=2.12 sec\n",
            " ARIMA(2,0,1)(0,0,0)[0] intercept   : AIC=38853.165, Time=1.67 sec\n",
            " ARIMA(3,0,2)(0,0,0)[0] intercept   : AIC=38794.332, Time=4.48 sec\n",
            " ARIMA(3,0,1)(0,0,0)[0] intercept   : AIC=38814.471, Time=2.73 sec\n",
            " ARIMA(4,0,2)(0,0,0)[0] intercept   : AIC=38787.338, Time=3.10 sec\n",
            " ARIMA(4,0,1)(0,0,0)[0] intercept   : AIC=38796.894, Time=3.01 sec\n",
            " ARIMA(5,0,2)(0,0,0)[0] intercept   : AIC=38786.147, Time=2.73 sec\n",
            " ARIMA(5,0,1)(0,0,0)[0] intercept   : AIC=38788.000, Time=3.85 sec\n",
            " ARIMA(5,0,3)(0,0,0)[0] intercept   : AIC=38775.965, Time=8.90 sec\n",
            " ARIMA(4,0,3)(0,0,0)[0] intercept   : AIC=38763.959, Time=5.88 sec\n",
            " ARIMA(3,0,3)(0,0,0)[0] intercept   : AIC=38794.160, Time=6.53 sec\n",
            " ARIMA(4,0,4)(0,0,0)[0] intercept   : AIC=38763.914, Time=17.01 sec\n",
            " ARIMA(3,0,4)(0,0,0)[0] intercept   : AIC=38763.539, Time=9.63 sec\n",
            " ARIMA(2,0,4)(0,0,0)[0] intercept   : AIC=38784.032, Time=1.79 sec\n",
            " ARIMA(3,0,5)(0,0,0)[0] intercept   : AIC=38753.732, Time=7.94 sec\n",
            " ARIMA(2,0,5)(0,0,0)[0] intercept   : AIC=38771.189, Time=4.40 sec\n",
            " ARIMA(4,0,5)(0,0,0)[0] intercept   : AIC=38744.688, Time=9.14 sec\n",
            " ARIMA(5,0,5)(0,0,0)[0] intercept   : AIC=38751.720, Time=9.27 sec\n",
            " ARIMA(5,0,4)(0,0,0)[0] intercept   : AIC=38739.086, Time=9.38 sec\n",
            " ARIMA(5,0,4)(0,0,0)[0]             : AIC=38719.142, Time=7.51 sec\n",
            " ARIMA(4,0,4)(0,0,0)[0]             : AIC=38741.847, Time=4.77 sec\n",
            " ARIMA(5,0,3)(0,0,0)[0]             : AIC=inf, Time=6.28 sec\n",
            " ARIMA(5,0,5)(0,0,0)[0]             : AIC=38720.271, Time=8.58 sec\n",
            " ARIMA(4,0,3)(0,0,0)[0]             : AIC=inf, Time=5.98 sec\n",
            " ARIMA(4,0,5)(0,0,0)[0]             : AIC=38720.302, Time=8.73 sec\n",
            "\n",
            "Best model:  ARIMA(5,0,4)(0,0,0)[0]          \n",
            "Total fit time: 161.525 seconds\n"
          ]
        },
        {
          "output_type": "execute_result",
          "data": {
            "text/plain": [
              "<class 'statsmodels.iolib.summary.Summary'>\n",
              "\"\"\"\n",
              "                               SARIMAX Results                                \n",
              "==============================================================================\n",
              "Dep. Variable:                      y   No. Observations:                 2192\n",
              "Model:               SARIMAX(5, 0, 4)   Log Likelihood              -19349.571\n",
              "Date:                Mon, 14 Mar 2022   AIC                          38719.142\n",
              "Time:                        11:11:25   BIC                          38776.068\n",
              "Sample:                             0   HQIC                         38739.948\n",
              "                               - 2192                                         \n",
              "Covariance Type:                  opg                                         \n",
              "==============================================================================\n",
              "                 coef    std err          z      P>|z|      [0.025      0.975]\n",
              "------------------------------------------------------------------------------\n",
              "ar.L1          1.6842      0.027     63.070      0.000       1.632       1.737\n",
              "ar.L2         -1.4052      0.040    -34.988      0.000      -1.484      -1.327\n",
              "ar.L3          1.7085      0.038     45.228      0.000       1.634       1.783\n",
              "ar.L4         -1.2281      0.035    -35.325      0.000      -1.296      -1.160\n",
              "ar.L5          0.2405      0.018     13.703      0.000       0.206       0.275\n",
              "ma.L1         -1.2360      0.026    -47.969      0.000      -1.287      -1.186\n",
              "ma.L2          0.9432      0.028     33.111      0.000       0.887       0.999\n",
              "ma.L3         -1.2715      0.026    -49.335      0.000      -1.322      -1.221\n",
              "ma.L4          0.7240      0.018     40.189      0.000       0.689       0.759\n",
              "sigma2      2.815e+06   7.08e-08   3.98e+13      0.000    2.82e+06    2.82e+06\n",
              "===================================================================================\n",
              "Ljung-Box (L1) (Q):                   0.00   Jarque-Bera (JB):           6340516.64\n",
              "Prob(Q):                              0.95   Prob(JB):                         0.00\n",
              "Heteroskedasticity (H):              21.23   Skew:                             9.45\n",
              "Prob(H) (two-sided):                  0.00   Kurtosis:                       265.80\n",
              "===================================================================================\n",
              "\n",
              "Warnings:\n",
              "[1] Covariance matrix calculated using the outer product of gradients (complex-step).\n",
              "[2] Covariance matrix is singular or near-singular, with condition number 2.63e+28. Standard errors may be unstable.\n",
              "\"\"\""
            ],
            "text/html": [
              "<table class=\"simpletable\">\n",
              "<caption>SARIMAX Results</caption>\n",
              "<tr>\n",
              "  <th>Dep. Variable:</th>           <td>y</td>        <th>  No. Observations:  </th>    <td>2192</td>   \n",
              "</tr>\n",
              "<tr>\n",
              "  <th>Model:</th>           <td>SARIMAX(5, 0, 4)</td> <th>  Log Likelihood     </th> <td>-19349.571</td>\n",
              "</tr>\n",
              "<tr>\n",
              "  <th>Date:</th>            <td>Mon, 14 Mar 2022</td> <th>  AIC                </th>  <td>38719.142</td>\n",
              "</tr>\n",
              "<tr>\n",
              "  <th>Time:</th>                <td>11:11:25</td>     <th>  BIC                </th>  <td>38776.068</td>\n",
              "</tr>\n",
              "<tr>\n",
              "  <th>Sample:</th>                  <td>0</td>        <th>  HQIC               </th>  <td>38739.948</td>\n",
              "</tr>\n",
              "<tr>\n",
              "  <th></th>                      <td> - 2192</td>     <th>                     </th>      <td> </td>    \n",
              "</tr>\n",
              "<tr>\n",
              "  <th>Covariance Type:</th>        <td>opg</td>       <th>                     </th>      <td> </td>    \n",
              "</tr>\n",
              "</table>\n",
              "<table class=\"simpletable\">\n",
              "<tr>\n",
              "     <td></td>       <th>coef</th>     <th>std err</th>      <th>z</th>      <th>P>|z|</th>  <th>[0.025</th>    <th>0.975]</th>  \n",
              "</tr>\n",
              "<tr>\n",
              "  <th>ar.L1</th>  <td>    1.6842</td> <td>    0.027</td> <td>   63.070</td> <td> 0.000</td> <td>    1.632</td> <td>    1.737</td>\n",
              "</tr>\n",
              "<tr>\n",
              "  <th>ar.L2</th>  <td>   -1.4052</td> <td>    0.040</td> <td>  -34.988</td> <td> 0.000</td> <td>   -1.484</td> <td>   -1.327</td>\n",
              "</tr>\n",
              "<tr>\n",
              "  <th>ar.L3</th>  <td>    1.7085</td> <td>    0.038</td> <td>   45.228</td> <td> 0.000</td> <td>    1.634</td> <td>    1.783</td>\n",
              "</tr>\n",
              "<tr>\n",
              "  <th>ar.L4</th>  <td>   -1.2281</td> <td>    0.035</td> <td>  -35.325</td> <td> 0.000</td> <td>   -1.296</td> <td>   -1.160</td>\n",
              "</tr>\n",
              "<tr>\n",
              "  <th>ar.L5</th>  <td>    0.2405</td> <td>    0.018</td> <td>   13.703</td> <td> 0.000</td> <td>    0.206</td> <td>    0.275</td>\n",
              "</tr>\n",
              "<tr>\n",
              "  <th>ma.L1</th>  <td>   -1.2360</td> <td>    0.026</td> <td>  -47.969</td> <td> 0.000</td> <td>   -1.287</td> <td>   -1.186</td>\n",
              "</tr>\n",
              "<tr>\n",
              "  <th>ma.L2</th>  <td>    0.9432</td> <td>    0.028</td> <td>   33.111</td> <td> 0.000</td> <td>    0.887</td> <td>    0.999</td>\n",
              "</tr>\n",
              "<tr>\n",
              "  <th>ma.L3</th>  <td>   -1.2715</td> <td>    0.026</td> <td>  -49.335</td> <td> 0.000</td> <td>   -1.322</td> <td>   -1.221</td>\n",
              "</tr>\n",
              "<tr>\n",
              "  <th>ma.L4</th>  <td>    0.7240</td> <td>    0.018</td> <td>   40.189</td> <td> 0.000</td> <td>    0.689</td> <td>    0.759</td>\n",
              "</tr>\n",
              "<tr>\n",
              "  <th>sigma2</th> <td> 2.815e+06</td> <td> 7.08e-08</td> <td> 3.98e+13</td> <td> 0.000</td> <td> 2.82e+06</td> <td> 2.82e+06</td>\n",
              "</tr>\n",
              "</table>\n",
              "<table class=\"simpletable\">\n",
              "<tr>\n",
              "  <th>Ljung-Box (L1) (Q):</th>     <td>0.00</td>  <th>  Jarque-Bera (JB):  </th> <td>6340516.64</td>\n",
              "</tr>\n",
              "<tr>\n",
              "  <th>Prob(Q):</th>                <td>0.95</td>  <th>  Prob(JB):          </th>    <td>0.00</td>   \n",
              "</tr>\n",
              "<tr>\n",
              "  <th>Heteroskedasticity (H):</th> <td>21.23</td> <th>  Skew:              </th>    <td>9.45</td>   \n",
              "</tr>\n",
              "<tr>\n",
              "  <th>Prob(H) (two-sided):</th>    <td>0.00</td>  <th>  Kurtosis:          </th>   <td>265.80</td>  \n",
              "</tr>\n",
              "</table><br/><br/>Warnings:<br/>[1] Covariance matrix calculated using the outer product of gradients (complex-step).<br/>[2] Covariance matrix is singular or near-singular, with condition number 2.63e+28. Standard errors may be unstable."
            ]
          },
          "metadata": {},
          "execution_count": 15
        }
      ]
    },
    {
      "cell_type": "code",
      "source": [
        "order_aic_bic=[]\n",
        "for p in range(4):\n",
        "      for q in range(4):\n",
        "          model = SARIMAX(shallot, order=(p,0,q), trend='c')\n",
        "          results_m = model.fit()\n",
        "          order_aic_bic.append((p, q, results_m.aic, results_m.bic))"
      ],
      "metadata": {
        "id": "B5_qrAwWtReP"
      },
      "execution_count": 16,
      "outputs": []
    },
    {
      "cell_type": "code",
      "source": [
        "# Construct DataFrame from order_aic_bic\n",
        "order_df = pd.DataFrame(order_aic_bic, \n",
        "                        columns=['p', 'q', 'AIC', 'BIC'])\n",
        "# Print order_df in order of increasing AIC\n",
        "print(order_df.sort_values('AIC'))\n",
        "# Print order_df in order of increasing BIC\n",
        "print(order_df.sort_values('BIC'))"
      ],
      "metadata": {
        "colab": {
          "base_uri": "https://localhost:8080/"
        },
        "id": "g46VTr6cutDS",
        "outputId": "c879985a-6b2b-47fc-a8a5-fda0426d6a30"
      },
      "execution_count": 17,
      "outputs": [
        {
          "output_type": "stream",
          "name": "stdout",
          "text": [
            "    p  q           AIC           BIC\n",
            "7   1  3  38792.938460  38827.093878\n",
            "15  3  3  38794.160132  38839.700689\n",
            "14  3  2  38794.331680  38834.179667\n",
            "10  2  2  38794.895468  38829.050886\n",
            "11  2  3  38795.529096  38835.377083\n",
            "6   1  2  38809.858093  38838.320941\n",
            "13  3  1  38814.470844  38848.626262\n",
            "9   2  1  38853.165361  38881.628210\n",
            "5   1  1  38867.022484  38889.792762\n",
            "12  3  0  38897.473022  38925.935870\n",
            "8   2  0  39077.364710  39100.134989\n",
            "4   1  0  39322.225989  39339.303698\n",
            "3   0  3  41083.865911  41112.328760\n",
            "2   0  2  41661.343085  41684.113363\n",
            "1   0  1  42731.382232  42748.459941\n",
            "0   0  0  44822.614431  44833.999570\n",
            "    p  q           AIC           BIC\n",
            "7   1  3  38792.938460  38827.093878\n",
            "10  2  2  38794.895468  38829.050886\n",
            "14  3  2  38794.331680  38834.179667\n",
            "11  2  3  38795.529096  38835.377083\n",
            "6   1  2  38809.858093  38838.320941\n",
            "15  3  3  38794.160132  38839.700689\n",
            "13  3  1  38814.470844  38848.626262\n",
            "9   2  1  38853.165361  38881.628210\n",
            "5   1  1  38867.022484  38889.792762\n",
            "12  3  0  38897.473022  38925.935870\n",
            "8   2  0  39077.364710  39100.134989\n",
            "4   1  0  39322.225989  39339.303698\n",
            "3   0  3  41083.865911  41112.328760\n",
            "2   0  2  41661.343085  41684.113363\n",
            "1   0  1  42731.382232  42748.459941\n",
            "0   0  0  44822.614431  44833.999570\n"
          ]
        }
      ]
    },
    {
      "cell_type": "code",
      "source": [
        "# Fit model\n",
        "model_2 = SARIMAX(shallot, order=(5,0,4))\n",
        "results_2 = model_2.fit()\n",
        "# Calculate the mean absolute error from residuals\n",
        "# residuals is obtained by using .resid\n",
        "mae = np.mean(np.abs(results_2.resid))\n",
        "print(mae)\n"
      ],
      "metadata": {
        "colab": {
          "base_uri": "https://localhost:8080/"
        },
        "id": "HYWYZ1Bkux8r",
        "outputId": "0fbd7feb-303a-4c00-e8be-08c3f919d231"
      },
      "execution_count": 18,
      "outputs": [
        {
          "output_type": "stream",
          "name": "stdout",
          "text": [
            "662.1898746141294\n"
          ]
        }
      ]
    },
    {
      "cell_type": "code",
      "source": [
        "# using residual test statistic to decide whether\n",
        "# a model is a good fit to a time series\n",
        "# Create and fit model\n",
        "model1 = SARIMAX(shallot, order=(5,0,4))\n",
        "results1 = model1.fit()\n",
        "# Print summary\n",
        "print(results1.summary())\n",
        "# it returns a set of values including Prob(Q) and Prob(JB)\n",
        "# using 4 diagnostic plots to evaluate the model\n",
        "# Create and fit model\n",
        "model = SARIMAX(shallot, order=(5,0,4))\n",
        "results=model.fit()\n",
        "# Create the 4 diagostics plots\n",
        "results.plot_diagnostics()\n",
        "plt.show()"
      ],
      "metadata": {
        "colab": {
          "base_uri": "https://localhost:8080/",
          "height": 851
        },
        "id": "4YH56g6gvDrv",
        "outputId": "62c2380a-d4be-4ca1-855b-ead107d4fc27"
      },
      "execution_count": 19,
      "outputs": [
        {
          "output_type": "stream",
          "name": "stdout",
          "text": [
            "                               SARIMAX Results                                \n",
            "==============================================================================\n",
            "Dep. Variable:                Shallot   No. Observations:                 2192\n",
            "Model:               SARIMAX(5, 0, 4)   Log Likelihood              -19349.571\n",
            "Date:                Mon, 14 Mar 2022   AIC                          38719.142\n",
            "Time:                        11:12:01   BIC                          38776.068\n",
            "Sample:                    01-01-2016   HQIC                         38739.948\n",
            "                         - 12-31-2021                                         \n",
            "Covariance Type:                  opg                                         \n",
            "==============================================================================\n",
            "                 coef    std err          z      P>|z|      [0.025      0.975]\n",
            "------------------------------------------------------------------------------\n",
            "ar.L1          1.6842      0.027     63.070      0.000       1.632       1.737\n",
            "ar.L2         -1.4052      0.040    -34.988      0.000      -1.484      -1.327\n",
            "ar.L3          1.7085      0.038     45.228      0.000       1.634       1.783\n",
            "ar.L4         -1.2281      0.035    -35.325      0.000      -1.296      -1.160\n",
            "ar.L5          0.2405      0.018     13.703      0.000       0.206       0.275\n",
            "ma.L1         -1.2360      0.026    -47.969      0.000      -1.287      -1.186\n",
            "ma.L2          0.9432      0.028     33.111      0.000       0.887       0.999\n",
            "ma.L3         -1.2715      0.026    -49.335      0.000      -1.322      -1.221\n",
            "ma.L4          0.7240      0.018     40.189      0.000       0.689       0.759\n",
            "sigma2      2.815e+06   7.08e-08   3.98e+13      0.000    2.82e+06    2.82e+06\n",
            "===================================================================================\n",
            "Ljung-Box (L1) (Q):                   0.00   Jarque-Bera (JB):           6340516.64\n",
            "Prob(Q):                              0.95   Prob(JB):                         0.00\n",
            "Heteroskedasticity (H):              21.23   Skew:                             9.45\n",
            "Prob(H) (two-sided):                  0.00   Kurtosis:                       265.80\n",
            "===================================================================================\n",
            "\n",
            "Warnings:\n",
            "[1] Covariance matrix calculated using the outer product of gradients (complex-step).\n",
            "[2] Covariance matrix is singular or near-singular, with condition number 2.63e+28. Standard errors may be unstable.\n"
          ]
        },
        {
          "output_type": "display_data",
          "data": {
            "text/plain": [
              "<Figure size 432x288 with 4 Axes>"
            ],
            "image/png": "[encoded data removed]"
          },
          "metadata": {
            "needs_background": "light"
          }
        }
      ]
    }
  ]
}